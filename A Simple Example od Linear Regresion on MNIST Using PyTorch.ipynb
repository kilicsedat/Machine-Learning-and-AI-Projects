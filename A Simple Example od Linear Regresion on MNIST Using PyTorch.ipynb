{
  "nbformat": 4,
  "nbformat_minor": 0,
  "metadata": {
    "colab": {
      "name": "InteractiveML.ipynb",
      "provenance": []
    },
    "kernelspec": {
      "display_name": "Python 3",
      "name": "python3"
    },
    "accelerator": "GPU"
  },
  "cells": [
    {
      "cell_type": "code",
      "metadata": {
        "id": "Dzv7NKNxfoWG"
      },
      "source": [
        "import torch\n",
        "import torchvision\n",
        "#from torchvision.datasets import MNIST\n",
        "import torch.nn as nn\n",
        "import torchvision.transforms as transforms\n",
        "import numpy as np\n",
        "\n",
        "import matplotlib.pyplot as plt\n",
        "%matplotlib inline\n",
        "\n"
      ],
      "execution_count": 1,
      "outputs": []
    },
    {
      "cell_type": "code",
      "metadata": {
        "colab": {
          "base_uri": "https://localhost:8080/"
        },
        "id": "lYq4HktAnj01",
        "outputId": "aaa28348-bd8a-4f6d-8c94-deb241df3f4d"
      },
      "source": [
        "from google.colab import drive\n",
        "drive.mount('/content/gdrive') "
      ],
      "execution_count": 2,
      "outputs": [
        {
          "output_type": "stream",
          "text": [
            "Mounted at /content/gdrive\n"
          ],
          "name": "stdout"
        }
      ]
    },
    {
      "cell_type": "code",
      "metadata": {
        "colab": {
          "base_uri": "https://localhost:8080/"
        },
        "id": "LeDFBP63AwaH",
        "outputId": "b838e9fa-8137-4f44-ec7d-435fde57292e"
      },
      "source": [
        "device = torch.device(\"cuda:0\" if torch.cuda.is_available() else \"cpu\")\n",
        "print(device)"
      ],
      "execution_count": 7,
      "outputs": [
        {
          "output_type": "stream",
          "text": [
            "cuda:0\n"
          ],
          "name": "stdout"
        }
      ]
    },
    {
      "cell_type": "code",
      "metadata": {
        "colab": {
          "base_uri": "https://localhost:8080/"
        },
        "id": "aOe2QCjenr20",
        "outputId": "aed06b6c-9104-4bec-df34-b585d41c3b7a"
      },
      "source": [
        "trainset = torchvision.datasets.ImageFolder(root='/content/gdrive/My Drive/Int/mnist/training/', \n",
        "                                         transform=transforms.Compose([transforms.ToTensor(), \n",
        "                                                                       transforms.Grayscale(num_output_channels=1)]))\n",
        "\n",
        "trainloader = torch.utils.data.DataLoader(trainset, batch_size=4,\n",
        "                                          shuffle=True, num_workers=2)\n",
        "\n",
        "testset = torchvision.datasets.ImageFolder(root='/content/gdrive/My Drive/Int/mnist/testing/', \n",
        "                                         transform=transforms.Compose([transforms.ToTensor(), \n",
        "                                                                       transforms.Grayscale(num_output_channels=1)]))\n",
        "\n",
        "\n",
        "testloader = torch.utils.data.DataLoader(testset, batch_size=1,\n",
        "                                         shuffle=False, num_workers=2)\n",
        "\n",
        "\n",
        "\n",
        "image_tensor, label= testset[0]\n",
        "print(image_tensor.shape, label)\n",
        "#print(image_tensor[0][27][27])\n"
      ],
      "execution_count": 3,
      "outputs": [
        {
          "output_type": "stream",
          "text": [
            "torch.Size([1, 28, 28]) 0\n"
          ],
          "name": "stdout"
        }
      ]
    },
    {
      "cell_type": "code",
      "metadata": {
        "id": "w81GU-1Jw9wQ"
      },
      "source": [
        "class LinearReg(nn.Module):\n",
        "  \n",
        "  def __init__(self, in_size, out_size):\n",
        "    super().__init__()\n",
        "    self.lin = nn.Linear(in_features = in_size, out_features = out_size)\n",
        "  \n",
        "  def forward(self, X):\n",
        "    pred = self.lin(X)\n",
        "    return(pred)\n"
      ],
      "execution_count": 4,
      "outputs": []
    },
    {
      "cell_type": "code",
      "metadata": {
        "id": "lutFMUWUOYay"
      },
      "source": [
        "torch.manual_seed(1)\n",
        "model = LinearReg(784,1)\n",
        "loss_fun = nn.MSELoss()\n",
        "optimizer = torch.optim.SGD(model.parameters(), lr = 0.01)\n",
        "[w,b] = model.parameters()"
      ],
      "execution_count": 5,
      "outputs": []
    },
    {
      "cell_type": "code",
      "metadata": {
        "colab": {
          "base_uri": "https://localhost:8080/"
        },
        "id": "X8Cb1zZ6BZlg",
        "outputId": "64a4d8c4-d2b6-4673-dc16-2ceb39c50fdf"
      },
      "source": [
        "model.to(device)"
      ],
      "execution_count": 8,
      "outputs": [
        {
          "output_type": "execute_result",
          "data": {
            "text/plain": [
              "LinearReg(\n",
              "  (lin): Linear(in_features=784, out_features=1, bias=True)\n",
              ")"
            ]
          },
          "metadata": {
            "tags": []
          },
          "execution_count": 8
        }
      ]
    },
    {
      "cell_type": "code",
      "metadata": {
        "id": "0TpS3l6YOG_P",
        "colab": {
          "base_uri": "https://localhost:8080/"
        },
        "outputId": "659f045e-5269-4c37-b468-897923a1426e"
      },
      "source": [
        "for epoch in range(10):  # loop over the dataset multiple times\n",
        "\n",
        "    running_loss = 0.0\n",
        "    for i, data in enumerate (trainloader, 0):\n",
        "        # get the inputs; data is a list of [inputs, labels]\n",
        "        X_train, y_train = data[0].to(device), data[1].to(device)\n",
        "        X_train = X_train.reshape(4,784)\n",
        "        #X_train = X_train.type(torch.scalar_tensor)\n",
        "\n",
        "        y_train = y_train.reshape(4,1)\n",
        "        y_train = y_train.type(torch.float)\n",
        "        #print(X_train.shape, y_train.shape)\n",
        "\n",
        "\n",
        "\n",
        "        # forward + backward + optimize\n",
        "        y_pred = model.forward(X_train)\n",
        "        loss = loss_fun(y_pred, y_train)\n",
        "        #print(\"@epoch : \", i, \" #Loss : \", loss.item())\n",
        "        #losses.append(loss)\n",
        "\n",
        "\n",
        "        # zero the parameter gradients\n",
        "        optimizer.zero_grad()\n",
        "        loss.backward()\n",
        "        optimizer.step()\n",
        "\n",
        "\n",
        "        # print statistics\n",
        "        running_loss += loss.item()\n",
        "        if i % 2000 == 1999:    # print every 2000 mini-batches\n",
        "            print('[%d, %5d] loss: %.3f' %\n",
        "                  (epoch + 1, i + 1, running_loss / 2000))\n",
        "            running_loss = 0.0\n",
        "\n",
        "print('Finished Training')\n"
      ],
      "execution_count": 10,
      "outputs": [
        {
          "output_type": "stream",
          "text": [
            "[1,  2000] loss: 0.585\n",
            "[1,  4000] loss: 0.590\n",
            "[1,  6000] loss: 0.603\n",
            "[2,  2000] loss: 0.597\n",
            "[2,  4000] loss: 0.631\n",
            "[2,  6000] loss: 0.577\n",
            "[3,  2000] loss: 0.607\n",
            "[3,  4000] loss: 0.604\n",
            "[3,  6000] loss: 0.586\n",
            "[4,  2000] loss: 0.599\n",
            "[4,  4000] loss: 0.630\n",
            "[4,  6000] loss: 0.601\n",
            "[5,  2000] loss: 0.572\n",
            "[5,  4000] loss: 0.603\n",
            "[5,  6000] loss: 0.603\n",
            "[6,  2000] loss: 0.597\n",
            "[6,  4000] loss: 0.596\n",
            "[6,  6000] loss: 0.598\n",
            "[7,  2000] loss: 0.577\n",
            "[7,  4000] loss: 0.608\n",
            "[7,  6000] loss: 0.608\n",
            "[8,  2000] loss: 0.605\n",
            "[8,  4000] loss: 0.601\n",
            "[8,  6000] loss: 0.600\n",
            "[9,  2000] loss: 0.603\n",
            "[9,  4000] loss: 0.624\n",
            "[9,  6000] loss: 0.588\n",
            "[10,  2000] loss: 0.579\n",
            "[10,  4000] loss: 0.624\n",
            "[10,  6000] loss: 0.609\n",
            "Finished Training\n"
          ],
          "name": "stdout"
        }
      ]
    },
    {
      "cell_type": "code",
      "metadata": {
        "id": "Io6Zj3s8CSPj"
      },
      "source": [
        "PATH = './MNISTLinearRegression.pth'\n",
        "torch.save(model.state_dict(), PATH)"
      ],
      "execution_count": 11,
      "outputs": []
    },
    {
      "cell_type": "code",
      "metadata": {
        "id": "ZiwswKTeittB",
        "colab": {
          "base_uri": "https://localhost:8080/"
        },
        "outputId": "b81d6819-e702-4fcc-e202-0e6442c40d41"
      },
      "source": [
        "%ls"
      ],
      "execution_count": null,
      "outputs": [
        {
          "output_type": "stream",
          "text": [
            "\u001b[0m\u001b[01;34mgdrive\u001b[0m/  MNISTLinearRegression.pth  \u001b[01;34msample_data\u001b[0m/\n"
          ],
          "name": "stdout"
        }
      ]
    },
    {
      "cell_type": "code",
      "metadata": {
        "id": "PjqogyWxA94W",
        "colab": {
          "base_uri": "https://localhost:8080/"
        },
        "outputId": "ad08b188-f598-441f-8869-1c11d5ab88e6"
      },
      "source": [
        "PATH = './MNISTLinearRegression.pth'\n",
        "model = LinearReg(784,1)\n",
        "model.load_state_dict(torch.load(PATH))"
      ],
      "execution_count": 12,
      "outputs": [
        {
          "output_type": "execute_result",
          "data": {
            "text/plain": [
              "<All keys matched successfully>"
            ]
          },
          "metadata": {
            "tags": []
          },
          "execution_count": 12
        }
      ]
    },
    {
      "cell_type": "code",
      "metadata": {
        "colab": {
          "base_uri": "https://localhost:8080/"
        },
        "id": "OZy7PXHkvk-a",
        "outputId": "5ca37388-c572-45f4-e98d-7fb203093c56"
      },
      "source": [
        "correct = 0\n",
        "total = 0\n",
        "\n",
        "with torch.no_grad():\n",
        "    for data in  testloader:\n",
        "        images, labels = data\n",
        "        images = images.reshape(1,784)\n",
        "\n",
        "        #labels = labels.reshape(1,1)\n",
        "        #labels = labels.type(torch.float)\n",
        "        \n",
        "\n",
        "        outputs = model.forward(images)\n",
        "        _, predicted = torch.max(outputs, 1)\n",
        "\n",
        "        total += labels.size(0)\n",
        "        correct += (predicted == labels).sum().item()\n",
        "\n",
        "        c = (predicted == labels).squeeze()\n",
        "       \n",
        "print('Accuracy of the model on the test data: %d %%' % (\n",
        "    100 * correct / total))\n"
      ],
      "execution_count": 17,
      "outputs": [
        {
          "output_type": "stream",
          "text": [
            "Accuracy of the model on the test data: 19 %\n"
          ],
          "name": "stdout"
        }
      ]
    },
    {
      "cell_type": "code",
      "metadata": {
        "id": "U5a9vTLsvqpw"
      },
      "source": [
        ""
      ],
      "execution_count": null,
      "outputs": []
    }
  ]
}