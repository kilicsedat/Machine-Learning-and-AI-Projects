{
 "cells": [
  {
   "cell_type": "code",
   "execution_count": 1,
   "metadata": {},
   "outputs": [],
   "source": [
    "%matplotlib inline\n",
    "\n",
    "import itertools\n",
    "import numpy as np\n",
    "import pandas as pd\n",
    "import re\n",
    "from nltk.corpus import stopwords\n",
    "from nltk.stem import PorterStemmer\n",
    "ps = PorterStemmer()"
   ]
  },
  {
   "cell_type": "code",
   "execution_count": 2,
   "metadata": {},
   "outputs": [],
   "source": [
    "data=pd.read_csv('train.csv', encoding = \"ISO-8859-1\")\n",
    "#test_data=pd.read_csv('test.csv', encoding = \"ISO-8859-1\")"
   ]
  },
  {
   "cell_type": "code",
   "execution_count": 3,
   "metadata": {},
   "outputs": [],
   "source": [
    "# Data Cleaning and Pre-processing\n",
    "\n",
    "def preProcessString(text):\n",
    "    #Strips quotes at end of text\n",
    "    text=text.strip('')\n",
    "    #Rmoving twitter handles @user\n",
    "    text=re.sub(\"@[\\w]*\",\" \",text) \n",
    "    # Remove URLs with the space\n",
    "    text = re.sub(r'((www\\.[\\S]+)|(https?://[\\S]+))', ' ', text)\n",
    "    # Strip space, \" and ' from text\n",
    "    text = text.strip(' \"\\'')\n",
    "    #Remove repeated letters of string such as jusssssst to just \n",
    "    text=re.sub(r'(.)\\1{3,}', r'\\1', text)\n",
    "    # remove all special characters\n",
    "    text = re.sub('[^A-Za-z]', ' ', text)\n",
    "    #replace two or more dots with space\n",
    "    text = re.sub(\"\\\\.{2,}\",\" \",text);\n",
    "    # converting all text into small letters and store them as words for further processing\n",
    "    text_list = text.lower().split()\n",
    "     # stemming the words (removing prefix and postfix) using Porter stemming algorithm..\n",
    "    text_list = [ps.stem(word) for word in text_list]\n",
    "    return ' '.join(text_list)\n",
    "    "
   ]
  },
  {
   "cell_type": "code",
   "execution_count": 4,
   "metadata": {},
   "outputs": [],
   "source": [
    "data['Preprocessed_data']=data['SentimentText'].apply(preProcessString)"
   ]
  },
  {
   "cell_type": "code",
   "execution_count": 5,
   "metadata": {},
   "outputs": [],
   "source": [
    "from sklearn.model_selection import cross_val_score, train_test_split\n",
    "from sklearn.feature_extraction.text import CountVectorizer, TfidfTransformer\n",
    "Count_vectorization=CountVectorizer()\n",
    "tf_idf_transform = TfidfTransformer()"
   ]
  },
  {
   "cell_type": "code",
   "execution_count": 6,
   "metadata": {},
   "outputs": [],
   "source": [
    "train, test = train_test_split(data, test_size=0.20)"
   ]
  },
  {
   "cell_type": "code",
   "execution_count": 7,
   "metadata": {},
   "outputs": [],
   "source": [
    "#Count_vectorization=CountVectorizer(ngram_range = (1, 2))\n",
    "\n",
    "X_train_count_vect = Count_vectorization.fit_transform(train[\"Preprocessed_data\"])\n",
    "X_train_tf_idf_vector = tf_idf_transform.fit_transform(X_train_count_vect)\n",
    "\n",
    "X_test_count_vect = Count_vectorization.transform(test[\"Preprocessed_data\"])\n",
    "X_test_tf_idf_vector = tf_idf_transform.transform(X_test_count_vect)\n",
    "\n",
    "y_train = train['Sentiment']\n",
    "\n",
    "y_test = test['Sentiment']"
   ]
  },
  {
   "cell_type": "code",
   "execution_count": 21,
   "metadata": {},
   "outputs": [],
   "source": [
    "from sklearn.naive_bayes import MultinomialNB\n",
    "from sklearn.naive_bayes import BernoulliNB\n",
    "from sklearn.linear_model import LogisticRegression\n",
    "from sklearn import linear_model\n",
    "from sklearn.tree import DecisionTreeClassifier\n",
    "from sklearn.neighbors import KNeighborsClassifier\n",
    "from sklearn.naive_bayes import GaussianNB \n",
    "from sklearn.ensemble import BaggingClassifier\n",
    "from sklearn.ensemble import AdaBoostClassifier\n",
    "from sklearn.ensemble import RandomForestClassifier\n",
    "\n",
    "predict_Text=dict()"
   ]
  },
  {
   "cell_type": "code",
   "execution_count": 22,
   "metadata": {},
   "outputs": [],
   "source": [
    "MultiNaive = MultinomialNB().fit(X_train_tf_idf_vector, y_train)\n",
    "predict_Text['Multinomial'] = MultiNaive.predict(X_test_tf_idf_vector)\n",
    "\n",
    "\n",
    "BerNaive = BernoulliNB().fit(X_train_tf_idf_vector, y_train)\n",
    "predict_Text['Bernoulli'] = BerNaive.predict(X_test_tf_idf_vector)\n",
    "\n",
    "GausNaive = BernoulliNB().fit(X_train_tf_idf_vector, y_train)\n",
    "predict_Text['Gaussian'] = GausNaive.predict(X_test_tf_idf_vector)\n",
    "\n",
    "lg1 = LogisticRegression(max_iter=1000, solver='lbfgs')\n",
    "lgReg_result = lg1.fit(X_train_tf_idf_vector, y_train)\n",
    "predict_Text['Logistic'] = lgReg_result.predict(X_test_tf_idf_vector)\n",
    "\n",
    "\n",
    "Dc_Tree_model=DecisionTreeClassifier()\n",
    "decisionTree_result=Dc_Tree_model.fit(X_train_tf_idf_vector, y_train)\n",
    "predict_Text['DecisionTree'] = decisionTree_result.predict(X_test_tf_idf_vector)\n",
    "\n",
    "svm = linear_model.SGDClassifier(max_iter=10000, tol=1e-3)\n",
    "SVM_SGD_result=svm.fit(X_train_tf_idf_vector, y_train)\n",
    "predict_Text['SVM SGD'] = SVM_SGD_result.predict(X_test_tf_idf_vector)\n",
    "\n",
    "Rnd_For = RandomForestClassifier(random_state=1,  n_estimators=100,  )\n",
    "Rnd_For_result=Rnd_For.fit(X_train_tf_idf_vector, y_train)\n",
    "predict_Text['Random_Forest'] = Rnd_For_result.predict(X_test_tf_idf_vector)\n",
    "\n",
    "KNN = KNeighborsClassifier(n_neighbors=1)\n",
    "KNN_result=svm.fit(X_train_tf_idf_vector, y_train)\n",
    "predict_Text['KNN'] = KNN_result.predict(X_test_tf_idf_vector)"
   ]
  },
  {
   "cell_type": "code",
   "execution_count": 23,
   "metadata": {},
   "outputs": [
    {
     "name": "stdout",
     "output_type": "stream",
     "text": [
      "Mulitnomial Naive Bayesian Classification Report\n",
      "(0.7356818351083637, 0.8698485382176823, 0.7971593430980914, None)\n",
      "Accuracy  74.862%\n",
      "=============================================================================================================\n",
      "Bernoulli Naive Bayesian Classification Report\n",
      "(0.7574734414889237, 0.8099682986967242, 0.7828418230563002, None)\n",
      "Accuracy 74.482%\n",
      "=============================================================================================================\n",
      "Gaussian Naive Bayesian Classification Report\n",
      "(0.7574734414889237, 0.8099682986967242, 0.7828418230563002, None)\n",
      "Accuracy 74.482%\n",
      "=============================================================================================================\n",
      "Logistic Classification Report\n",
      "(0.7809021675454013, 0.8216801690736175, 0.8007723664449689, None)\n",
      "Accuracy  76.783%\n",
      "=============================================================================================================\n",
      "Decision Tree Classification Report\n",
      "(0.7242046053788012, 0.7256076083127861, 0.7249054279933139, None)\n",
      "Accuracy  68.727%\n",
      "=============================================================================================================\n",
      "SVM SGD Classification Report\n",
      "(0.7685155239327296, 0.8370024656569215, 0.8012982633619963, None)\n",
      "Accuracy  76.428%\n",
      "=============================================================================================================\n",
      "Random_Forest Classification Report\n",
      "(0.7707867031418387, 0.8187742162733357, 0.7940561082881421, None)\n",
      "Accuracy  75.883%\n",
      "=============================================================================================================\n",
      "KNN Classification Report\n",
      "(0.7623589254490543, 0.8446636139485735, 0.801403626033921, None)\n",
      "Accuracy  76.228%\n"
     ]
    }
   ],
   "source": [
    "from sklearn import metrics\n",
    "from sklearn.metrics import accuracy_score\n",
    "from sklearn.metrics import precision_recall_fscore_support\n",
    "\n",
    "print(\"Mulitnomial Naive Bayesian Classification Report\")\n",
    "print(precision_recall_fscore_support(y_test, predict_Text['Multinomial'], average='binary'))\n",
    "print(\"Accuracy  %0.3f%%\" %(accuracy_score(y_test,predict_Text['Multinomial'])*100))\n",
    "print('=============================================================================================================')\n",
    "print(\"Bernoulli Naive Bayesian Classification Report\")\n",
    "print(precision_recall_fscore_support(y_test, predict_Text['Bernoulli'], average='binary'))\n",
    "print(\"Accuracy %0.3f%%\" %(accuracy_score(y_test,predict_Text['Bernoulli'])*100))\n",
    "print('=============================================================================================================')\n",
    "print(\"Gaussian Naive Bayesian Classification Report\")\n",
    "print(precision_recall_fscore_support(y_test, predict_Text['Gaussian'], average='binary'))\n",
    "print(\"Accuracy %0.3f%%\" %(accuracy_score(y_test,predict_Text['Gaussian'])*100))\n",
    "print('=============================================================================================================')\n",
    "print(\"Logistic Classification Report\")\n",
    "print(precision_recall_fscore_support(y_test, predict_Text['Logistic'], average='binary'))\n",
    "print(\"Accuracy  %0.3f%%\" %(accuracy_score(y_test,predict_Text['Logistic'])*100))\n",
    "print('=============================================================================================================')\n",
    "print(\"Decision Tree Classification Report\")\n",
    "print(precision_recall_fscore_support(y_test, predict_Text['DecisionTree'], average='binary'))\n",
    "print(\"Accuracy  %0.3f%%\" %(accuracy_score(y_test,predict_Text['DecisionTree'])*100))\n",
    "print('=============================================================================================================')\n",
    "print(\"SVM SGD Classification Report\")\n",
    "print(precision_recall_fscore_support(y_test, predict_Text['SVM SGD'], average='binary'))\n",
    "print(\"Accuracy  %0.3f%%\" %(accuracy_score(y_test,predict_Text['SVM SGD'])*100))\n",
    "print('=============================================================================================================')\n",
    "print(\"Random_Forest Classification Report\")\n",
    "print(precision_recall_fscore_support(y_test, predict_Text['Random_Forest'], average='binary'))\n",
    "print(\"Accuracy  %0.3f%%\" %(accuracy_score(y_test,predict_Text['Random_Forest'])*100))\n",
    "print('=============================================================================================================')\n",
    "print(\"KNN Classification Report\")\n",
    "print(precision_recall_fscore_support(y_test, predict_Text['KNN'], average='binary'))\n",
    "print(\"Accuracy  %0.3f%%\" %(accuracy_score(y_test,predict_Text['KNN'])*100))"
   ]
  },
  {
   "cell_type": "code",
   "execution_count": 11,
   "metadata": {},
   "outputs": [
    {
     "name": "stdout",
     "output_type": "stream",
     "text": [
      "Accuracy: 73.862% (+/- 0.002) [Multinomial]\n",
      "Accuracy: 73.870% (+/- 0.002) [Bernoulli]\n",
      "Accuracy: 76.504% (+/- 0.001) [Logistic]\n",
      "Accuracy: 67.970% (+/- 0.003) [Decision Tree]\n",
      "Accuracy: 76.036% (+/- 0.002) [SVM SGD]\n",
      "Accuracy: 72.527% (+/- 0.001) [Bagging Multinomial]\n",
      "Accuracy: 73.367% (+/- 0.002) [Bagging Bernoulli]\n",
      "Accuracy: 76.087% (+/- 0.001) [Bagging Logistics]\n",
      "Accuracy: 72.138% (+/- 0.002) [Bagging Tree]\n",
      "Accuracy: 75.697% (+/- 0.001) [Bagging SVM SGD]\n"
     ]
    }
   ],
   "source": [
    "import seaborn as sns\n",
    "import matplotlib.pyplot as plt\n",
    "import matplotlib.gridspec as gridspec\n",
    "\n",
    "from mlxtend.plotting import plot_learning_curves\n",
    "from mlxtend.plotting import plot_decision_regions\n",
    "\n",
    "bagging1 = BaggingClassifier(base_estimator=MultiNaive, n_estimators=10, max_samples=0.8, \n",
    "                             max_features=0.8)\n",
    "bagging2 = BaggingClassifier(base_estimator=BerNaive, n_estimators=10, max_samples=0.8, \n",
    "                             max_features=0.8)\n",
    "bagging3 = BaggingClassifier(base_estimator=lg1, n_estimators=10, max_samples=0.8, \n",
    "                             max_features=0.8)\n",
    "bagging4 = BaggingClassifier(base_estimator=Dc_Tree_model, n_estimators=10, max_samples=0.8, \n",
    "                             max_features=0.8)\n",
    "bagging5 = BaggingClassifier(base_estimator=svm, n_estimators=10, max_samples=0.8, \n",
    "                             max_features=0.8)\n",
    "\n",
    "label = ['Multinomial','Bernoulli', 'Logistic',  'Decision Tree', 'SVM SGD','Bagging Multinomial','Bagging Bernoulli','Bagging Logistics', 'Bagging Tree','Bagging SVM SGD']\n",
    "\n",
    "clf_list = [MultiNaive, BerNaive, lg1, Dc_Tree_model, svm, bagging1, bagging2,bagging3, bagging4, bagging5]\n",
    "\n",
    "for clf, label in zip(clf_list, label):        \n",
    "    scores = cross_val_score(clf, X_train_tf_idf_vector, y_train, cv=3, scoring='accuracy')\n",
    "    print (\"Accuracy: %.3f%% (+/- %.3f) [%s]\" %(scores.mean()*100, scores.std(), label))\n",
    "        \n"
   ]
  },
  {
   "cell_type": "code",
   "execution_count": 12,
   "metadata": {},
   "outputs": [
    {
     "name": "stdout",
     "output_type": "stream",
     "text": [
      "Accuracy: 56.383% (+/- 0.000) [AdaBoost (n_est=1)] [MultinomialNB(alpha=1.0, class_prior=None, fit_prior=True)]\n",
      "Accuracy: 69.197% (+/- 0.002) [AdaBoost (n_est=2)] [MultinomialNB(alpha=1.0, class_prior=None, fit_prior=True)]\n",
      "Accuracy: 69.197% (+/- 0.002) [AdaBoost (n_est=3)] [MultinomialNB(alpha=1.0, class_prior=None, fit_prior=True)]\n",
      "Accuracy: 73.187% (+/- 0.001) [AdaBoost (n_est=10)] [MultinomialNB(alpha=1.0, class_prior=None, fit_prior=True)]\n",
      "Accuracy: 56.383% (+/- 0.000) [A] [BernoulliNB(alpha=1.0, binarize=0.0, class_prior=None, fit_prior=True)]\n",
      "Accuracy: 56.383% (+/- 0.000) [d] [BernoulliNB(alpha=1.0, binarize=0.0, class_prior=None, fit_prior=True)]\n",
      "Accuracy: 56.383% (+/- 0.000) [a] [BernoulliNB(alpha=1.0, binarize=0.0, class_prior=None, fit_prior=True)]\n",
      "Accuracy: 56.383% (+/- 0.000) [B] [BernoulliNB(alpha=1.0, binarize=0.0, class_prior=None, fit_prior=True)]\n",
      "Accuracy: 68.050% (+/- 0.000) [B] [DecisionTreeClassifier(class_weight=None, criterion='gini', max_depth=None,\n",
      "                       max_features=None, max_leaf_nodes=None,\n",
      "                       min_impurity_decrease=0.0, min_impurity_split=None,\n",
      "                       min_samples_leaf=1, min_samples_split=2,\n",
      "                       min_weight_fraction_leaf=0.0, presort=False,\n",
      "                       random_state=None, splitter='best')]\n",
      "Accuracy: 56.383% (+/- 0.000) [B] [SGDClassifier(alpha=0.0001, average=False, class_weight=None,\n",
      "              early_stopping=False, epsilon=0.1, eta0=0.0, fit_intercept=True,\n",
      "              l1_ratio=0.15, learning_rate='optimal', loss='hinge',\n",
      "              max_iter=10000, n_iter_no_change=5, n_jobs=None, penalty='l2',\n",
      "              power_t=0.5, random_state=None, shuffle=True, tol=0.001,\n",
      "              validation_fraction=0.1, verbose=0, warm_start=False)]\n"
     ]
    }
   ],
   "source": [
    "\n",
    "num_est = [1, 2, 3, 10]\n",
    "label = ['AdaBoost (n_est=1)', 'AdaBoost (n_est=2)', 'AdaBoost (n_est=3)', 'AdaBoost (n_est=10)']\n",
    "\n",
    "clf_list = [MultiNaive, BerNaive, Dc_Tree_model, svm]\n",
    "\n",
    "bg_clf_cv_mean = []\n",
    "bg_clf_cv_std = []\n",
    "for clf in clf_list:\n",
    "    for n_est, label in zip(num_est, label):     \n",
    "            boosting = AdaBoostClassifier(base_estimator=clf, n_estimators=n_est, algorithm='SAMME')   \n",
    "            boosting.fit( X_train_tf_idf_vector, y_train)\n",
    "            scores = cross_val_score(boosting, X_train_tf_idf_vector, y_train, cv=3, scoring='accuracy')\n",
    "            print (\"Accuracy: %.3f%% (+/- %.3f) [%s] [%s]\" %(scores.mean()*100, scores.std(), label, clf))"
   ]
  },
  {
   "cell_type": "code",
   "execution_count": null,
   "metadata": {},
   "outputs": [
    {
     "name": "stdout",
     "output_type": "stream",
     "text": [
      "Accuracy: 60.893% (+/- 0.002) [KNN]\n",
      "Accuracy: 75.467% (+/- 0.000) [Random_Forest]\n",
      "Accuracy: 73.870% (+/- 0.002) [Gaussian]\n"
     ]
    }
   ],
   "source": [
    "from mlxtend.classifier import StackingClassifier\n",
    "\n",
    "sclf = StackingClassifier(classifiers=[ KNN, Rnd_For, GausNaive], \n",
    "                          meta_classifier=lg1)\n",
    "\n",
    "label = ['KNN',  'Random_Forest' , 'Gaussian', 'Stacking Classifier']\n",
    "clf_list = [ KNN, Rnd_For, GausNaive, sclf]\n",
    "\n",
    "for clf, label in zip(clf_list, label):   \n",
    "    scores = cross_val_score(clf, X_train_tf_idf_vector, y_train, cv=3, scoring='accuracy')\n",
    "    print (\"Accuracy: %.3f%% (+/- %.3f) [%s]\" %(scores.mean()*100, scores.std(), label))"
   ]
  },
  {
   "cell_type": "code",
   "execution_count": 20,
   "metadata": {},
   "outputs": [
    {
     "data": {
      "image/png": "[encoded data removed]",
      "text/plain": [
       "<Figure size 432x288 with 2 Axes>"
      ]
     },
     "metadata": {},
     "output_type": "display_data"
    }
   ],
   "source": [
    "#Confusion Matrix for Logistic Regression\n",
    "import seaborn as sns\n",
    "from sklearn.metrics import confusion_matrix\n",
    "cm = confusion_matrix(y_test, predict_Text['Logistic'])\n",
    "confusion_matrix_df=pd.DataFrame(cm,[\"Negative\",\"Positive\"],[\"Negative\",\"Positive\"],dtype=int)\n",
    "sns.heatmap(confusion_matrix_df,annot=True,fmt=\"d\")\n",
    "plt.title(\"Confustion Matrix for Logistic\")\n",
    "plt.show()"
   ]
  },
  {
   "cell_type": "code",
   "execution_count": 21,
   "metadata": {},
   "outputs": [
    {
     "data": {
      "image/png": "[encoded data removed]",
      "text/plain": [
       "<Figure size 432x288 with 2 Axes>"
      ]
     },
     "metadata": {},
     "output_type": "display_data"
    }
   ],
   "source": [
    "import seaborn as sns\n",
    "from sklearn.metrics import confusion_matrix\n",
    "cm = confusion_matrix(y_test, predict_Text['Multinomial'])\n",
    "confusion_matrix_df=pd.DataFrame(cm,[\"Negative\",\"Positive\"],[\"Negative\",\"Positive\"],dtype=int)\n",
    "sns.heatmap(confusion_matrix_df,annot=True,fmt=\"d\")\n",
    "plt.title(\"Confustion Matrix for Multinomial\")\n",
    "plt.show()"
   ]
  },
  {
   "cell_type": "code",
   "execution_count": null,
   "metadata": {
    "collapsed": true
   },
   "outputs": [],
   "source": []
  },
  {
   "cell_type": "code",
   "execution_count": null,
   "metadata": {
    "collapsed": true
   },
   "outputs": [],
   "source": []
  }
 ],
 "metadata": {
  "anaconda-cloud": {},
  "kernelspec": {
   "display_name": "Python 3",
   "language": "python",
   "name": "python3"
  },
  "language_info": {
   "codemirror_mode": {
    "name": "ipython",
    "version": 3
   },
   "file_extension": ".py",
   "mimetype": "text/x-python",
   "name": "python",
   "nbconvert_exporter": "python",
   "pygments_lexer": "ipython3",
   "version": "3.7.4"
  }
 },
 "nbformat": 4,
 "nbformat_minor": 1
}
