{
 "cells": [
  {
   "cell_type": "code",
   "execution_count": 24,
   "metadata": {},
   "outputs": [
    {
     "data": {
      "text/plain": [
       "<module 'keras.backend' from '/Users/sedatkilic/anaconda3/lib/python3.7/site-packages/keras/backend/__init__.py'>"
      ]
     },
     "execution_count": 24,
     "metadata": {},
     "output_type": "execute_result"
    }
   ],
   "source": [
    "import importlib\n",
    "import numpy as np\n",
    "import pandas as pd\n",
    "import keras\n",
    "from keras import backend as bkend\n",
    "from keras import layers\n",
    "from keras.layers import Input, Dense, MaxPooling2D, BatchNormalization, Dropout, Flatten, convolutional, pooling, Reshape, Embedding\n",
    "from keras.layers.advanced_activations import LeakyReLU\n",
    "from keras.layers.convolutional import UpSampling2D, Conv2D\n",
    "from keras import metrics\n",
    "from keras.models import Model\n",
    "from keras.optimizers import Adam, RMSprop\n",
    "from keras.utils.generic_utils import Progbar\n",
    "from keras.preprocessing import image\n",
    "from keras.models import Sequential\n",
    "\n",
    "import tensorflow as tf\n",
    "from tensorflow.python.client import device_lib\n",
    "\n",
    "get_ipython().magic(\"matplotlib inline\")\n",
    "\n",
    "os.environ[\"KERAS_BACKEND\"] = \"tensorflow\"\n",
    "importlib.reload(bkend)"
   ]
  },
  {
   "cell_type": "code",
   "execution_count": 25,
   "metadata": {},
   "outputs": [],
   "source": [
    "mnist = mnist.load_data()\n",
    "(x_train, y_train), (x_test, y_test) = mnist\n",
    "x_train = np.reshape(x_train, [x_train.shape[0], x_train.shape[1], x_train.shape[2], 1])\n",
    "x_test = np.reshape(x_test, [x_test.shape[0], x_test.shape[1], x_test.shape[2], 1])\n",
    "y_train = y_train.ravel()\n",
    "y_test = y_test.ravel()\n",
    "x_train = x_train.astype(\"float32\")\n",
    "x_test = x_test.astype(\"float32\")\n",
    "x_train /= 255.0\n",
    "x_test /= 255.0\n",
    "\n",
    "y_train = keras.utils.to_categorical(y_train, 10)\n",
    "y_test = keras.utils.to_categorical(y_test, 10)"
   ]
  },
  {
   "cell_type": "code",
   "execution_count": 26,
   "metadata": {},
   "outputs": [],
   "source": [
    "model = Sequential()\n",
    "\n",
    "model.add(Conv2D(filters=64, kernel_size=(5, 5), padding=\"same\", strides=(2, 2), activation=\"tanh\"))\n",
    "model.add(MaxPooling2D(pool_size=(2, 2)))\n",
    "model.add(Conv2D(filters=128, kernel_size=(5, 5), padding=\"same\", strides=(2, 2), activation=\"tanh\"))\n",
    "model.add(MaxPooling2D(pool_size=(2, 2)))\n",
    "model.add(Flatten())\n",
    "model.add(Dense(units=1024, activation=\"tanh\"))\n",
    "model.add(Dense(units=10, activation=\"sigmoid\"))                                                            \n"
   ]
  },
  {
   "cell_type": "code",
   "execution_count": 47,
   "metadata": {},
   "outputs": [
    {
     "name": "stdout",
     "output_type": "stream",
     "text": [
      "Epoch 1/25\n",
      "60000/60000 [==============================] - 15s 246us/step - loss: 2.2106e-05 - accuracy: 1.0000\n",
      "Epoch 2/25\n",
      "60000/60000 [==============================] - 14s 240us/step - loss: 9.4394e-06 - accuracy: 1.0000\n",
      "Epoch 3/25\n",
      "60000/60000 [==============================] - 14s 240us/step - loss: 1.4898e-05 - accuracy: 1.0000\n",
      "Epoch 4/25\n",
      "60000/60000 [==============================] - 14s 237us/step - loss: 9.9671e-06 - accuracy: 1.0000\n",
      "Epoch 5/25\n",
      "60000/60000 [==============================] - 14s 239us/step - loss: 1.8581e-05 - accuracy: 1.0000\n",
      "Epoch 6/25\n",
      "60000/60000 [==============================] - 14s 237us/step - loss: 6.9945e-06 - accuracy: 1.0000\n",
      "Epoch 7/25\n",
      "60000/60000 [==============================] - 14s 235us/step - loss: 7.5749e-06 - accuracy: 1.0000\n",
      "Epoch 8/25\n",
      "60000/60000 [==============================] - 15s 250us/step - loss: 4.7387e-06 - accuracy: 1.0000\n",
      "Epoch 9/25\n",
      "60000/60000 [==============================] - 14s 231us/step - loss: 1.4249e-06 - accuracy: 1.0000\n",
      "Epoch 10/25\n",
      "60000/60000 [==============================] - 14s 230us/step - loss: 1.2589e-08 - accuracy: 1.0000\n",
      "Epoch 11/25\n",
      "60000/60000 [==============================] - 14s 234us/step - loss: 8.1266e-09 - accuracy: 1.0000\n",
      "Epoch 12/25\n",
      "60000/60000 [==============================] - 14s 236us/step - loss: 6.6814e-09 - accuracy: 1.0000\n",
      "Epoch 13/25\n",
      "60000/60000 [==============================] - 14s 240us/step - loss: 5.8768e-09 - accuracy: 1.0000\n",
      "Epoch 14/25\n",
      "60000/60000 [==============================] - 14s 238us/step - loss: 5.2747e-09 - accuracy: 1.0000\n",
      "Epoch 15/25\n",
      "60000/60000 [==============================] - 14s 230us/step - loss: 4.8793e-09 - accuracy: 1.0000\n",
      "Epoch 16/25\n",
      "60000/60000 [==============================] - 14s 233us/step - loss: 4.5091e-09 - accuracy: 1.0000\n",
      "Epoch 17/25\n",
      "60000/60000 [==============================] - 14s 231us/step - loss: 4.2112e-09 - accuracy: 1.0000\n",
      "Epoch 18/25\n",
      "60000/60000 [==============================] - 14s 232us/step - loss: 3.9700e-09 - accuracy: 1.0000\n",
      "Epoch 19/25\n",
      "60000/60000 [==============================] - 14s 234us/step - loss: 3.7696e-09 - accuracy: 1.0000\n",
      "Epoch 20/25\n",
      "60000/60000 [==============================] - 14s 231us/step - loss: 3.5722e-09 - accuracy: 1.0000\n",
      "Epoch 21/25\n",
      "60000/60000 [==============================] - 14s 234us/step - loss: 3.4097e-09 - accuracy: 1.0000\n",
      "Epoch 22/25\n",
      "60000/60000 [==============================] - 14s 235us/step - loss: 3.2605e-09 - accuracy: 1.0000\n",
      "Epoch 23/25\n",
      "60000/60000 [==============================] - 14s 231us/step - loss: 3.1331e-09 - accuracy: 1.0000\n",
      "Epoch 24/25\n",
      "60000/60000 [==============================] - 14s 233us/step - loss: 3.0188e-09 - accuracy: 1.0000\n",
      "Epoch 25/25\n",
      "60000/60000 [==============================] - 14s 231us/step - loss: 2.8949e-09 - accuracy: 1.0000\n",
      "10000/10000 [==============================] - 1s 52us/step\n",
      "Loss: 0.015645165561791373\n",
      "Accuracy 0.998%:Accuracy 0.998%:Accuracy 0.998%:Accuracy 0.998%:Accuracy 0.998%:Accuracy 0.998%:Accuracy 0.998%:Accuracy 0.998%:Accuracy 0.998%:Accuracy 0.998%:Accuracy 0.998%:Accuracy 0.998%:Accuracy 0.998%:Accuracy 0.998%:Accuracy 0.998%:Accuracy 0.998%:Accuracy 0.998%:Accuracy 0.998%:Accuracy 0.998%:Accuracy 0.998%:Accuracy 0.998%:Accuracy 0.998%:Accuracy 0.998%:Accuracy 0.998%:Accuracy 0.998%:Accuracy 0.998%:Accuracy 0.998%:Accuracy 0.998%:Accuracy 0.998%:Accuracy 0.998%:Accuracy 0.998%:Accuracy 0.998%:Accuracy 0.998%:Accuracy 0.998%:Accuracy 0.998%:Accuracy 0.998%:Accuracy 0.998%:Accuracy 0.998%:Accuracy 0.998%:Accuracy 0.998%:Accuracy 0.998%:Accuracy 0.998%:Accuracy 0.998%:Accuracy 0.998%:Accuracy 0.998%:Accuracy 0.998%:Accuracy 0.998%:Accuracy 0.998%:Accuracy 0.998%:Accuracy 0.998%:Accuracy 0.998%:Accuracy 0.998%:Accuracy 0.998%:Accuracy 0.998%:Accuracy 0.998%:Accuracy 0.998%:Accuracy 0.998%:Accuracy 0.998%:Accuracy 0.998%:Accuracy 0.998%:Accuracy 0.998%:Accuracy 0.998%:Accuracy 0.998%:Accuracy 0.998%:Accuracy 0.998%:Accuracy 0.998%:Accuracy 0.998%:Accuracy 0.998%:Accuracy 0.998%:Accuracy 0.998%:Accuracy 0.998%:Accuracy 0.998%:Accuracy 0.998%:Accuracy 0.998%:Accuracy 0.998%:Accuracy 0.998%:Accuracy 0.998%:Accuracy 0.998%:Accuracy 0.998%:Accuracy 0.998%:Accuracy 0.998%:Accuracy 0.998%:Accuracy 0.998%:Accuracy 0.998%:Accuracy 0.998%:Accuracy 0.998%:Accuracy 0.998%:Accuracy 0.998%:Accuracy 0.998%:Accuracy 0.998%:Accuracy 0.998%:Accuracy 0.998%:Accuracy 0.998%:Accuracy 0.998%:Accuracy 0.998%:Accuracy 0.998%:Accuracy 0.998%:Accuracy 0.998%:Accuracy 0.998%:Accuracy 0.998%:\n"
     ]
    }
   ],
   "source": [
    "model.compile(optimizer=RMSprop(lr=0.0002, clipvalue=1.0,\n",
    "                                                     decay=1e-8),\n",
    "                                   loss=\"binary_crossentropy\", metrics=['accuracy'])\n",
    "\n",
    "model.fit(x_train, y_train, batch_size=100,\n",
    "                          epochs=25)\n",
    "\n",
    "score, acc = model.evaluate(x_test, y_test, batch_size=100)\n",
    "print('Loss:', score)\n",
    "print('Accuracy %0.3f%%:' %(acc))"
   ]
  },
  {
   "cell_type": "code",
   "execution_count": 49,
   "metadata": {},
   "outputs": [
    {
     "name": "stdout",
     "output_type": "stream",
     "text": [
      "Loss: 0.015645165561791373\n",
      "Accuracy 0.998%:\n"
     ]
    }
   ],
   "source": [
    "print('Loss:', score)\n",
    "print('Accuracy %0.3f%%:' %(acc))"
   ]
  },
  {
   "cell_type": "code",
   "execution_count": null,
   "metadata": {},
   "outputs": [],
   "source": []
  }
 ],
 "metadata": {
  "kernelspec": {
   "display_name": "Python 3",
   "language": "python",
   "name": "python3"
  },
  "language_info": {
   "codemirror_mode": {
    "name": "ipython",
    "version": 3
   },
   "file_extension": ".py",
   "mimetype": "text/x-python",
   "name": "python",
   "nbconvert_exporter": "python",
   "pygments_lexer": "ipython3",
   "version": "3.7.4"
  }
 },
 "nbformat": 4,
 "nbformat_minor": 2
}
