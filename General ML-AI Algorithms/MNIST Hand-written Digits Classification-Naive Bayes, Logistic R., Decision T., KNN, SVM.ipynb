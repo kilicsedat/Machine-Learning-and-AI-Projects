{
 "cells": [
  {
   "cell_type": "code",
   "execution_count": 1,
   "metadata": {},
   "outputs": [],
   "source": [
    "from sklearn.naive_bayes import MultinomialNB\n",
    "from sklearn.naive_bayes import BernoulliNB\n",
    "from sklearn.linear_model import LogisticRegression\n",
    "from sklearn.tree import DecisionTreeClassifier\n",
    "from sklearn import linear_model\n",
    "from sklearn import svm\n",
    "from sklearn.neighbors import KNeighborsClassifier\n",
    "from sklearn import metrics\n",
    "from sklearn.metrics import accuracy_score\n",
    "import numpy as np"
   ]
  },
  {
   "cell_type": "code",
   "execution_count": 2,
   "metadata": {},
   "outputs": [
    {
     "name": "stderr",
     "output_type": "stream",
     "text": [
      "Using TensorFlow backend.\n"
     ]
    }
   ],
   "source": [
    "from keras.datasets import mnist\n",
    "mnist2 = mnist.load_data()\n",
    "(x_train, y_train), (x_test, y_test) = mnist2"
   ]
  },
  {
   "cell_type": "code",
   "execution_count": 3,
   "metadata": {},
   "outputs": [],
   "source": [
    "x_train = np.reshape(x_train, (x_train.shape[0], 28*28))\n",
    "x_test = np.reshape(x_test, (x_test.shape[0], 28*28))\n",
    "x_train = x_train.astype(\"float32\")\n",
    "x_test = x_test.astype(\"float32\")\n",
    "x_train /= 255.0\n",
    "x_test /= 255.0"
   ]
  },
  {
   "cell_type": "code",
   "execution_count": null,
   "metadata": {},
   "outputs": [
    {
     "name": "stderr",
     "output_type": "stream",
     "text": [
      "/Users/sedatkilic/anaconda3/lib/python3.7/site-packages/sklearn/linear_model/logistic.py:947: ConvergenceWarning: lbfgs failed to converge. Increase the number of iterations.\n",
      "  \"of iterations.\", ConvergenceWarning)\n"
     ]
    }
   ],
   "source": [
    "modelM = MultinomialNB().fit(x_train, y_train)\n",
    "y_hat_M = modelM.predict(x_test)\n",
    "\n",
    "model = BernoulliNB().fit(x_train, y_train)\n",
    "y_hat_B = model.predict(x_test)\n",
    "\n",
    "lg1 = LogisticRegression(C=1, solver='lbfgs', multi_class='auto')\n",
    "lgReg_result = lg1.fit(x_train, y_train)\n",
    "y_hat_Log = lgReg_result.predict(x_test)\n",
    "\n",
    "Dc_Tree_model=DecisionTreeClassifier()\n",
    "decisionTree_result=Dc_Tree_model.fit(x_train, y_train)\n",
    "y_hat_DT = decisionTree_result.predict(x_test)\n",
    "\n",
    "clf = linear_model.SGDClassifier(loss='log',  max_iter=10000)\n",
    "clf.fit(x_train, y_train)\n",
    "y_hat_SGD = clf.predict(x_test)\n",
    "\n",
    "clf2 = svm.SVC(gamma ='scale')\n",
    "clf2.fit(x_train, y_train)\n",
    "y_hat_svm = clf2.predict(x_test)\n",
    "\n",
    "neigh = KNeighborsClassifier(n_neighbors=10)\n",
    "neigh.fit(x_train, y_train)\n",
    "y_hat_KNN = neigh.predict(x_test)"
   ]
  },
  {
   "cell_type": "code",
   "execution_count": 50,
   "metadata": {},
   "outputs": [
    {
     "name": "stdout",
     "output_type": "stream",
     "text": [
      "MultinomialNB\n",
      "              precision    recall  f1-score   support\n",
      "\n",
      "           0       0.92      0.93      0.93       980\n",
      "           1       0.91      0.93      0.92      1135\n",
      "           2       0.90      0.83      0.86      1032\n",
      "           3       0.80      0.84      0.82      1010\n",
      "           4       0.84      0.74      0.79       982\n",
      "           5       0.87      0.66      0.75       892\n",
      "           6       0.89      0.90      0.89       958\n",
      "           7       0.93      0.84      0.88      1028\n",
      "           8       0.66      0.80      0.72       974\n",
      "           9       0.71      0.85      0.77      1009\n",
      "\n",
      "    accuracy                           0.84     10000\n",
      "   macro avg       0.84      0.83      0.83     10000\n",
      "weighted avg       0.84      0.84      0.84     10000\n",
      "\n",
      "Accuracy  83.570%\n",
      "==================================================================================================\n",
      "BernoulliNB\n",
      "              precision    recall  f1-score   support\n",
      "\n",
      "           0       0.91      0.91      0.91       980\n",
      "           1       0.90      0.96      0.93      1135\n",
      "           2       0.89      0.83      0.86      1032\n",
      "           3       0.76      0.84      0.80      1010\n",
      "           4       0.83      0.81      0.82       982\n",
      "           5       0.82      0.70      0.76       892\n",
      "           6       0.89      0.89      0.89       958\n",
      "           7       0.93      0.85      0.89      1028\n",
      "           8       0.75      0.78      0.77       974\n",
      "           9       0.75      0.84      0.79      1009\n",
      "\n",
      "    accuracy                           0.84     10000\n",
      "   macro avg       0.84      0.84      0.84     10000\n",
      "weighted avg       0.84      0.84      0.84     10000\n",
      "\n",
      "Accuracy  84.130%\n",
      "==================================================================================================\n",
      "DecisionTree\n",
      "              precision    recall  f1-score   support\n",
      "\n",
      "           0       0.91      0.93      0.92       980\n",
      "           1       0.96      0.96      0.96      1135\n",
      "           2       0.88      0.86      0.87      1032\n",
      "           3       0.84      0.86      0.85      1010\n",
      "           4       0.89      0.88      0.88       982\n",
      "           5       0.83      0.84      0.84       892\n",
      "           6       0.89      0.89      0.89       958\n",
      "           7       0.90      0.91      0.91      1028\n",
      "           8       0.83      0.81      0.82       974\n",
      "           9       0.86      0.86      0.86      1009\n",
      "\n",
      "    accuracy                           0.88     10000\n",
      "   macro avg       0.88      0.88      0.88     10000\n",
      "weighted avg       0.88      0.88      0.88     10000\n",
      "\n",
      "Accuracy  88.130%\n",
      "==================================================================================================\n",
      "SVM SGD\n",
      "              precision    recall  f1-score   support\n",
      "\n",
      "           0       0.93      0.98      0.96       980\n",
      "           1       0.97      0.97      0.97      1135\n",
      "           2       0.91      0.91      0.91      1032\n",
      "           3       0.93      0.89      0.91      1010\n",
      "           4       0.87      0.95      0.91       982\n",
      "           5       0.88      0.88      0.88       892\n",
      "           6       0.92      0.95      0.94       958\n",
      "           7       0.96      0.88      0.92      1028\n",
      "           8       0.88      0.87      0.87       974\n",
      "           9       0.89      0.87      0.88      1009\n",
      "\n",
      "    accuracy                           0.91     10000\n",
      "   macro avg       0.91      0.91      0.91     10000\n",
      "weighted avg       0.92      0.91      0.91     10000\n",
      "\n",
      "Accuracy  91.450%\n",
      "==================================================================================================\n"
     ]
    }
   ],
   "source": [
    "print(\"MultinomialNB\")\n",
    "print(metrics.classification_report(y_test, y_hat_M))\n",
    "print(\"Accuracy  %0.3f%%\" %(accuracy_score(y_test,y_hat_M)*100))\n",
    "print('==================================================================================================')\n",
    "\n",
    "print(\"BernoulliNB\")\n",
    "print(metrics.classification_report(y_test, y_hat_B))\n",
    "print(\"Accuracy  %0.3f%%\" %(accuracy_score(y_test,y_hat_B)*100))\n",
    "print('==================================================================================================')\n",
    "\n",
    "print(\"DecisionTree\")\n",
    "print(metrics.classification_report(y_test, y_hat_DT))\n",
    "print(\"Accuracy  %0.3f%%\" %(accuracy_score(y_test,y_hat_DT)*100))\n",
    "print('==================================================================================================')\n",
    "      \n",
    "print(\"SGD\")\n",
    "print(metrics.classification_report(y_test, y_hat_SGD))\n",
    "print(\"Accuracy  %0.3f%%\" %(accuracy_score(y_test,y_hat_SGD)*100))\n",
    "print('==================================================================================================')\n",
    "\n",
    "print(\"SVM\")\n",
    "print(metrics.classification_report(y_test, y_hat_svm))\n",
    "print(\"Accuracy  %0.3f%%\" %(accuracy_score(y_test,y_hat_svm)*100))\n",
    "print('==================================================================================================')\n",
    "\n",
    "print(\"KNN\")\n",
    "print(metrics.classification_report(y_test, y_hat_KNN))\n",
    "print(\"Accuracy  %0.3f%%\" %(accuracy_score(y_test,y_hat_KNN)*100))\n",
    "print('==================================================================================================')"
   ]
  },
  {
   "cell_type": "code",
   "execution_count": null,
   "metadata": {},
   "outputs": [],
   "source": [
    "print(\"Logistic Classification Report\")\n",
    "print(metrics.classification_report(y_test, y_hat_Log)\n",
    "print(\"Accuracy  %0.3f%%\" %(accuracy_score(y_test,y_hat_Log)*100))\n",
    "print('==================================================================================================')"
   ]
  },
  {
   "cell_type": "code",
   "execution_count": null,
   "metadata": {},
   "outputs": [],
   "source": []
  }
 ],
 "metadata": {
  "kernelspec": {
   "display_name": "Python 3",
   "language": "python",
   "name": "python3"
  },
  "language_info": {
   "codemirror_mode": {
    "name": "ipython",
    "version": 3
   },
   "file_extension": ".py",
   "mimetype": "text/x-python",
   "name": "python",
   "nbconvert_exporter": "python",
   "pygments_lexer": "ipython3",
   "version": "3.7.4"
  }
 },
 "nbformat": 4,
 "nbformat_minor": 2
}
