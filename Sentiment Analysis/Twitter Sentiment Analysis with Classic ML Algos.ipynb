{
 "cells": [
  {
   "cell_type": "code",
   "execution_count": 1,
   "metadata": {},
   "outputs": [],
   "source": [
    "import pandas as pd\n",
    "import re"
   ]
  },
  {
   "cell_type": "code",
   "execution_count": 2,
   "metadata": {},
   "outputs": [],
   "source": [
    "data=pd.read_csv('train.csv', encoding = \"ISO-8859-1\")"
   ]
  },
  {
   "cell_type": "code",
   "execution_count": 3,
   "metadata": {},
   "outputs": [],
   "source": [
    "import re \n",
    "from nltk.corpus import stopwords\n",
    "from nltk.stem import PorterStemmer\n",
    "ps = PorterStemmer()\n",
    "def preProcessString(text):\n",
    "    #Strips quotes at end of text\n",
    "    text=text.strip('')\n",
    "    #Rmoving twitter handles @user\n",
    "    text=re.sub(\"@[\\w]*\",\" \",text) \n",
    "    # Remove URLs with the space\n",
    "    text = re.sub(r'((www\\.[\\S]+)|(https?://[\\S]+))', ' ', text)\n",
    "    # Strip space, \" and ' from text\n",
    "    text = text.strip(' \"\\'')\n",
    "    #Remove repeated letters of string such as jusssssst to just \n",
    "    text=re.sub(r'(.)\\1{3,}', r'\\1', text)\n",
    "    # remove all special characters\n",
    "    text = re.sub('[^A-Za-z]', ' ', text)\n",
    "    #replace two or more dots with space\n",
    "    text = re.sub(\"\\\\.{2,}\",\" \",text);\n",
    "    # converting all text into small letters and store them as words for further processing\n",
    "    text_list = text.lower().split()\n",
    "     # stemming the words (removing prefix and postfix) using Porter stemming algorithm..\n",
    "    text_list = [ps.stem(word) for word in text_list]\n",
    "    return ' '.join(text_list)\n",
    "    "
   ]
  },
  {
   "cell_type": "code",
   "execution_count": 4,
   "metadata": {},
   "outputs": [],
   "source": [
    "data['Preprocessed_data']=data['SentimentText'].apply(preProcessString)"
   ]
  },
  {
   "cell_type": "code",
   "execution_count": 5,
   "metadata": {},
   "outputs": [
    {
     "data": {
      "text/html": [
       "<div>\n",
       "<style scoped>\n",
       "    .dataframe tbody tr th:only-of-type {\n",
       "        vertical-align: middle;\n",
       "    }\n",
       "\n",
       "    .dataframe tbody tr th {\n",
       "        vertical-align: top;\n",
       "    }\n",
       "\n",
       "    .dataframe thead th {\n",
       "        text-align: right;\n",
       "    }\n",
       "</style>\n",
       "<table border=\"1\" class=\"dataframe\">\n",
       "  <thead>\n",
       "    <tr style=\"text-align: right;\">\n",
       "      <th></th>\n",
       "      <th>ItemID</th>\n",
       "      <th>Sentiment</th>\n",
       "      <th>SentimentText</th>\n",
       "      <th>Preprocessed_data</th>\n",
       "    </tr>\n",
       "  </thead>\n",
       "  <tbody>\n",
       "    <tr>\n",
       "      <th>0</th>\n",
       "      <td>1</td>\n",
       "      <td>0</td>\n",
       "      <td>is so sad for my APL frie...</td>\n",
       "      <td>is so sad for my apl friend</td>\n",
       "    </tr>\n",
       "    <tr>\n",
       "      <th>1</th>\n",
       "      <td>2</td>\n",
       "      <td>0</td>\n",
       "      <td>I missed the New Moon trail...</td>\n",
       "      <td>i miss the new moon trailer</td>\n",
       "    </tr>\n",
       "    <tr>\n",
       "      <th>2</th>\n",
       "      <td>3</td>\n",
       "      <td>1</td>\n",
       "      <td>omg its already 7:30 :O</td>\n",
       "      <td>omg it alreadi o</td>\n",
       "    </tr>\n",
       "    <tr>\n",
       "      <th>3</th>\n",
       "      <td>4</td>\n",
       "      <td>0</td>\n",
       "      <td>.. Omgaga. Im sooo  im gunna CRy. I'...</td>\n",
       "      <td>omgaga im sooo im gunna cri i ve been at thi d...</td>\n",
       "    </tr>\n",
       "    <tr>\n",
       "      <th>4</th>\n",
       "      <td>5</td>\n",
       "      <td>0</td>\n",
       "      <td>i think mi bf is cheating on me!!!   ...</td>\n",
       "      <td>i think mi bf is cheat on me t t</td>\n",
       "    </tr>\n",
       "  </tbody>\n",
       "</table>\n",
       "</div>"
      ],
      "text/plain": [
       "   ItemID  Sentiment                                      SentimentText  \\\n",
       "0       1          0                       is so sad for my APL frie...   \n",
       "1       2          0                     I missed the New Moon trail...   \n",
       "2       3          1                            omg its already 7:30 :O   \n",
       "3       4          0            .. Omgaga. Im sooo  im gunna CRy. I'...   \n",
       "4       5          0           i think mi bf is cheating on me!!!   ...   \n",
       "\n",
       "                                   Preprocessed_data  \n",
       "0                        is so sad for my apl friend  \n",
       "1                        i miss the new moon trailer  \n",
       "2                                   omg it alreadi o  \n",
       "3  omgaga im sooo im gunna cri i ve been at thi d...  \n",
       "4                   i think mi bf is cheat on me t t  "
      ]
     },
     "execution_count": 5,
     "metadata": {},
     "output_type": "execute_result"
    }
   ],
   "source": [
    "data.head()"
   ]
  },
  {
   "cell_type": "code",
   "execution_count": 6,
   "metadata": {},
   "outputs": [],
   "source": [
    "from sklearn.model_selection import train_test_split\n",
    "from sklearn.feature_extraction.text import CountVectorizer, TfidfTransformer\n",
    "Count_vectorization=CountVectorizer()\n",
    "tf_idf_transform = TfidfTransformer()"
   ]
  },
  {
   "cell_type": "code",
   "execution_count": 7,
   "metadata": {},
   "outputs": [],
   "source": [
    "train, test = train_test_split(data, test_size=0.20)"
   ]
  },
  {
   "cell_type": "code",
   "execution_count": 8,
   "metadata": {},
   "outputs": [
    {
     "data": {
      "text/html": [
       "<div>\n",
       "<style scoped>\n",
       "    .dataframe tbody tr th:only-of-type {\n",
       "        vertical-align: middle;\n",
       "    }\n",
       "\n",
       "    .dataframe tbody tr th {\n",
       "        vertical-align: top;\n",
       "    }\n",
       "\n",
       "    .dataframe thead th {\n",
       "        text-align: right;\n",
       "    }\n",
       "</style>\n",
       "<table border=\"1\" class=\"dataframe\">\n",
       "  <thead>\n",
       "    <tr style=\"text-align: right;\">\n",
       "      <th></th>\n",
       "      <th>ItemID</th>\n",
       "      <th>Sentiment</th>\n",
       "      <th>SentimentText</th>\n",
       "      <th>Preprocessed_data</th>\n",
       "    </tr>\n",
       "  </thead>\n",
       "  <tbody>\n",
       "    <tr>\n",
       "      <th>91778</th>\n",
       "      <td>91790</td>\n",
       "      <td>1</td>\n",
       "      <td>@ColetteA I like your picture</td>\n",
       "      <td>i like your pictur</td>\n",
       "    </tr>\n",
       "    <tr>\n",
       "      <th>61636</th>\n",
       "      <td>61648</td>\n",
       "      <td>0</td>\n",
       "      <td>@bigassbadger hope @sapphyno1 hasnt ditched yo...</td>\n",
       "      <td>hope hasnt ditch you live on twitter</td>\n",
       "    </tr>\n",
       "    <tr>\n",
       "      <th>10361</th>\n",
       "      <td>10373</td>\n",
       "      <td>1</td>\n",
       "      <td>&amp;quot;Peter your dog is giving me diabetes&amp;quot;</td>\n",
       "      <td>quot peter your dog is give me diabet quot</td>\n",
       "    </tr>\n",
       "    <tr>\n",
       "      <th>56973</th>\n",
       "      <td>56985</td>\n",
       "      <td>1</td>\n",
       "      <td>@barrysma NEW motorcycle and you POPPED a cabl...</td>\n",
       "      <td>new motorcycl and you pop a cabl alreadi wow y...</td>\n",
       "    </tr>\n",
       "    <tr>\n",
       "      <th>27695</th>\n",
       "      <td>27707</td>\n",
       "      <td>1</td>\n",
       "      <td>@ahj Should be doing coursework, but that vide...</td>\n",
       "      <td>should be do coursework but that video is awes...</td>\n",
       "    </tr>\n",
       "  </tbody>\n",
       "</table>\n",
       "</div>"
      ],
      "text/plain": [
       "       ItemID  Sentiment                                      SentimentText  \\\n",
       "91778   91790          1                     @ColetteA I like your picture    \n",
       "61636   61648          0  @bigassbadger hope @sapphyno1 hasnt ditched yo...   \n",
       "10361   10373          1  &quot;Peter your dog is giving me diabetes&quot;    \n",
       "56973   56985          1  @barrysma NEW motorcycle and you POPPED a cabl...   \n",
       "27695   27707          1  @ahj Should be doing coursework, but that vide...   \n",
       "\n",
       "                                       Preprocessed_data  \n",
       "91778                                 i like your pictur  \n",
       "61636               hope hasnt ditch you live on twitter  \n",
       "10361         quot peter your dog is give me diabet quot  \n",
       "56973  new motorcycl and you pop a cabl alreadi wow y...  \n",
       "27695  should be do coursework but that video is awes...  "
      ]
     },
     "execution_count": 8,
     "metadata": {},
     "output_type": "execute_result"
    }
   ],
   "source": [
    "train.head()"
   ]
  },
  {
   "cell_type": "code",
   "execution_count": 9,
   "metadata": {},
   "outputs": [],
   "source": [
    "#Count_vectorization=CountVectorizer(ngram_range = (1, 2))\n",
    "\n",
    "X_train_count_vect = Count_vectorization.fit_transform(train[\"Preprocessed_data\"])\n",
    "X_train_tf_idf_vector = tf_idf_transform.fit_transform(X_train_count_vect)\n",
    "\n",
    "X_test_count_vect = Count_vectorization.transform(test[\"Preprocessed_data\"])\n",
    "X_test_tf_idf_vector = tf_idf_transform.transform(X_test_count_vect)\n",
    "\n",
    "y_train = train['Sentiment']\n",
    "\n",
    "y_test = test['Sentiment']\n"
   ]
  },
  {
   "cell_type": "code",
   "execution_count": 10,
   "metadata": {},
   "outputs": [],
   "source": [
    "from sklearn.naive_bayes import MultinomialNB\n",
    "from sklearn.naive_bayes import BernoulliNB\n",
    "from sklearn.linear_model import LogisticRegression\n",
    "from sklearn.tree import DecisionTreeClassifier\n",
    "from sklearn import linear_model\n",
    "\n",
    "predict_Text=dict()"
   ]
  },
  {
   "cell_type": "code",
   "execution_count": 11,
   "metadata": {},
   "outputs": [
    {
     "name": "stderr",
     "output_type": "stream",
     "text": [
      "C:\\Users\\sedkilic\\AppData\\Local\\Continuum\\anaconda3\\lib\\site-packages\\sklearn\\linear_model\\logistic.py:432: FutureWarning: Default solver will be changed to 'lbfgs' in 0.22. Specify a solver to silence this warning.\n",
      "  FutureWarning)\n"
     ]
    }
   ],
   "source": [
    "model = MultinomialNB().fit(X_train_tf_idf_vector, y_train)\n",
    "predict_Text['Multinomial'] = model.predict(X_test_tf_idf_vector)\n",
    "\n",
    "model = BernoulliNB().fit(X_train_tf_idf_vector, y_train)\n",
    "predict_Text['Bernoulli'] = model.predict(X_test_tf_idf_vector)\n",
    "\n",
    "\n",
    "\n",
    "lg1 = LogisticRegression(C=1)\n",
    "lgReg_result = lg1.fit(X_train_tf_idf_vector, y_train)\n",
    "predict_Text['Logistic'] = lgReg_result.predict(X_test_tf_idf_vector)\n",
    "\n",
    "Dc_Tree_model=DecisionTreeClassifier()\n",
    "decisionTree_result=Dc_Tree_model.fit(X_train_tf_idf_vector, y_train)\n",
    "predict_Text['DecisionTree'] = decisionTree_result.predict(X_test_tf_idf_vector)\n",
    "\n",
    "clf = linear_model.SGDClassifier(loss='log',  max_iter=10000)\n",
    "clf.fit(X_train_tf_idf_vector, y_train)\n",
    "predict_Text['SVM SGD Classifier'] = clf.predict(X_test_tf_idf_vector)"
   ]
  },
  {
   "cell_type": "code",
   "execution_count": 12,
   "metadata": {},
   "outputs": [
    {
     "name": "stdout",
     "output_type": "stream",
     "text": [
      "Logistic Classification Report\n",
      "              precision    recall  f1-score   support\n",
      "\n",
      "    Negative       0.76      0.69      0.73      8646\n",
      "    Positive       0.78      0.84      0.81     11352\n",
      "\n",
      "   micro avg       0.77      0.77      0.77     19998\n",
      "   macro avg       0.77      0.76      0.77     19998\n",
      "weighted avg       0.77      0.77      0.77     19998\n",
      "\n",
      "Accuracy  77.403%\n",
      "==================================================================================================\n",
      "Bernoulli Naive Bayesian Classification Report\n",
      "              precision    recall  f1-score   support\n",
      "\n",
      "    Negative       0.74      0.66      0.70      8646\n",
      "    Positive       0.76      0.82      0.79     11352\n",
      "\n",
      "   micro avg       0.75      0.75      0.75     19998\n",
      "   macro avg       0.75      0.74      0.74     19998\n",
      "weighted avg       0.75      0.75      0.75     19998\n",
      "\n",
      "Accuracy 75.268%\n",
      "==================================================================================================\n",
      "Mulitnomial Naive Bayesian Classification Report\n",
      "              precision    recall  f1-score   support\n",
      "\n",
      "    Negative       0.78      0.59      0.67      8646\n",
      "    Positive       0.74      0.88      0.80     11352\n",
      "\n",
      "   micro avg       0.75      0.75      0.75     19998\n",
      "   macro avg       0.76      0.73      0.74     19998\n",
      "weighted avg       0.76      0.75      0.74     19998\n",
      "\n",
      "Accuracy  75.103%\n",
      "==================================================================================================\n",
      "Decision Tree Classification Report\n",
      "              precision    recall  f1-score   support\n",
      "\n",
      "    Negative       0.64      0.63      0.63      8646\n",
      "    Positive       0.72      0.73      0.72     11352\n",
      "\n",
      "   micro avg       0.69      0.69      0.69     19998\n",
      "   macro avg       0.68      0.68      0.68     19998\n",
      "weighted avg       0.69      0.69      0.69     19998\n",
      "\n",
      "Accuracy  68.557%\n",
      "==================================================================================================\n",
      "SVM SGD Classifier\n",
      "              precision    recall  f1-score   support\n",
      "\n",
      "    Negative       0.77      0.65      0.71      8646\n",
      "    Positive       0.76      0.85      0.80     11352\n",
      "\n",
      "   micro avg       0.76      0.76      0.76     19998\n",
      "   macro avg       0.77      0.75      0.75     19998\n",
      "weighted avg       0.76      0.76      0.76     19998\n",
      "\n",
      "Accuracy  76.458%\n"
     ]
    }
   ],
   "source": [
    "from sklearn import metrics\n",
    "from sklearn.metrics import accuracy_score\n",
    "print(\"Logistic Classification Report\")\n",
    "print(metrics.classification_report(y_test, predict_Text['Logistic'], target_names = [\"Negative\",\"Positive\"]))\n",
    "print(\"Accuracy  %0.3f%%\" %(accuracy_score(y_test,predict_Text['Logistic'])*100))\n",
    "print('==================================================================================================')\n",
    "print(\"Bernoulli Naive Bayesian Classification Report\")\n",
    "print(metrics.classification_report(y_test, predict_Text['Bernoulli'], target_names = [\"Negative\",\"Positive\"]))\n",
    "print(\"Accuracy %0.3f%%\" %(accuracy_score(y_test,predict_Text['Bernoulli'])*100))\n",
    "print('==================================================================================================')\n",
    "print(\"Mulitnomial Naive Bayesian Classification Report\")\n",
    "print(metrics.classification_report(y_test, predict_Text['Multinomial'], target_names = [\"Negative\",\"Positive\"]))\n",
    "print(\"Accuracy  %0.3f%%\" %(accuracy_score(y_test,predict_Text['Multinomial'])*100))\n",
    "print('==================================================================================================')\n",
    "print(\"Decision Tree Classification Report\")\n",
    "print(metrics.classification_report(y_test, predict_Text['DecisionTree'], target_names = [\"Negative\",\"Positive\"]))\n",
    "print(\"Accuracy  %0.3f%%\" %(accuracy_score(y_test,predict_Text['DecisionTree'])*100))\n",
    "print('==================================================================================================')\n",
    "print(\"SVM SGD Classifier\")\n",
    "print(metrics.classification_report(y_test, predict_Text['SVM SGD Classifier'], target_names = [\"Negative\",\"Positive\"]))\n",
    "print(\"Accuracy  %0.3f%%\" %(accuracy_score(y_test,predict_Text['SVM SGD Classifier'])*100))"
   ]
  },
  {
   "cell_type": "code",
   "execution_count": null,
   "metadata": {},
   "outputs": [],
   "source": []
  }
 ],
 "metadata": {
  "anaconda-cloud": {},
  "kernelspec": {
   "display_name": "Python 3",
   "language": "python",
   "name": "python3"
  },
  "language_info": {
   "codemirror_mode": {
    "name": "ipython",
    "version": 3
   },
   "file_extension": ".py",
   "mimetype": "text/x-python",
   "name": "python",
   "nbconvert_exporter": "python",
   "pygments_lexer": "ipython3",
   "version": "3.6.6"
  }
 },
 "nbformat": 4,
 "nbformat_minor": 1
}
