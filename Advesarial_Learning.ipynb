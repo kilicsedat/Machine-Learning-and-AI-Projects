
   ],
   "source": [
    "from keras.preprocessing.image import load_img\n",
    "from keras.preprocessing.image import img_to_array\n",
    "from PIL import Image\n",
    "from keras.applications.imagenet_utils import decode_predictions\n",
    "import matplotlib.pyplot as plt\n",
    "import keras\n",
    "import numpy as np\n",
    "from keras import backend as K\n",
    "from keras.applications import inception_v3\n",
    " \n",
    "%matplotlib inline\n",
    "\n",
    " \n",
    "filename = 'dani_the_dog.jpg'\n",
    "dani = load_img(filename, target_size=(299,299))\n",
    "plt.imshow(dani)\n",
    "plt.show()\n",
    " "
   ]
  },
  {
   "cell_type": "code",
   "execution_count": null,
   "metadata": {},
   "outputs": [],
   "source": [
    "#Load pretrained model (note I had to download and put in the keras models folder)\n",
    "\n",
    "model = inception_v3.InceptionV3()\n",
    "\n",
    "# Convert the image into batch format\n",
    "numpy_image = img_to_array(dani)\n",
    "numpy_image = np.expand_dims(numpy_image, axis=0)\n",
    "print numpy_image.shape\n",
    "\n",
    "#Normalize input for inception to be between -1 and 1\n",
    "numpy_image /= 255.\n",
    "numpy_image -= 0.5\n",
    "numpy_image *= 2.\n",
    "\n",
    "# predict and print predictions\n",
    "preds = model.predict(numpy_image)\n",
    "print('Predicted:', decode_predictions(preds, top=10)[0])\n"
   ]
  },
  {
   "cell_type": "code",
   "execution_count": null,
   "metadata": {},
   "outputs": [],
   "source": [
    "#turn dani into a toaster\n",
    "object_type_to_fake = 859\n",
    "\n",
    "#extract input and output layers\n",
    "model_input_layer = model.layers[0].input\n",
    "model_output_layer = model.layers[-1].output\n",
    "\n",
    "#only allow image to be changed slightly at each iteration\n",
    "max_change_above = numpy_image + 0.01\n",
    "max_change_below = numpy_image - 0.01\n",
    "\n",
    "#we will keep the new image in this array\n",
    "hacked_image = np.copy(numpy_image)\n",
    "\n",
    "#learning rate\n",
    "learning_rate = 0.2\n",
    "\n",
    "#cost will be probability that image is a toaster (we will maximize)\n",
    "cost_function = model_output_layer[0, object_type_to_fake]\n",
    "\n",
    "#keras has functions to get gradients \n",
    "gradient_function = K.gradients(cost_function, model_input_layer)[0]\n",
    "grab_cost_and_gradients_from_model = K.function([model_input_layer, K.learning_phase()], \n",
    "                                                [cost_function, gradient_function])\n",
    "\n",
    "cost = 0.0\n",
    "\n",
    "#while probability of toaster is less than .8\n",
    "while cost < 0.8:\n",
    " \n",
    "    #get current gradient of probability with respect to image\n",
    "    cost, gradients = grab_cost_and_gradients_from_model([hacked_image, 0])\n",
    "\n",
    "    #stochastic gradient descent update\n",
    "    hacked_image += gradients * learning_rate\n",
    "\n",
    "    #clip image so it didn't change too much and is still between -1 and 1\n",
    "    hacked_image = np.clip(hacked_image, max_change_below, max_change_above)\n",
    "    hacked_image = np.clip(hacked_image, -1.0, 1.0)\n",
    "\n",
    "    print(\"Model's predicted likelihood that the image is a toaster: {:.8}%\".format(cost * 100))\n"
   ]
  },
  {
   "cell_type": "code",
   "execution_count": null,
   "metadata": {},
   "outputs": [],
   "source": [
    "preds = model.predict(hacked_image)\n",
    "print('Predicted:', decode_predictions(preds, top=10)[0])"
   ]
  },
  {
   "cell_type": "code",
   "execution_count": null,
   "metadata": {},
   "outputs": [],
   "source": [
    "img = hacked_image[0]\n",
    "img /= 2.\n",
    "img += 0.5\n",
    "img *= 255.\n",
    "im = Image.fromarray(img.astype(np.uint8))\n",
    "plt.imshow(im)\n",
    "plt.show()\n",
    "im.save(\"toaster-dog.png\")"
   ]
  }
 ],
 "metadata": {
  "kernelspec": {
   "display_name": "Python 3",
   "language": "python",
   "name": "python3"
  },
  "language_info": {
   "codemirror_mode": {
    "name": "ipython",
    "version": 3
   },
   "file_extension": ".py",
   "mimetype": "text/x-python",
   "name": "python",
   "nbconvert_exporter": "python",
   "pygments_lexer": "ipython3",
   "version": "3.6.4"
  }
 },
 "nbformat": 4,
 "nbformat_minor": 2
}
